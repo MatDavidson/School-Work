{
 "cells": [
  {
   "cell_type": "markdown",
   "metadata": {},
   "source": [
    "# CS 4990\n",
    "# Assignment 3: Data Pre-processing and Model Analysis of Binary Classification\n",
    "\n",
    "# Due: 2:00pm February 20, 2020"
   ]
  },
  {
   "cell_type": "markdown",
   "metadata": {},
   "source": [
    "The [Pima Indians dataset](https://www.kaggle.com/uciml/pima-indians-diabetes-database) is a very famous dataset distributed by UCI and originally collected from the National Institute of Diabetes and Digestive and Kidney Diseases. It contains data from clinical exams for 614 women age 21 and above of Pima indian origins. The objective is to predict, based on diagnostic measurements, whether a patient has diabetes.\n",
    "\n",
    "It has the following features:\n",
    "\n",
    "- Pregnancies: Number of times pregnant\n",
    "- Glucose: Plasma glucose concentration a 2 hours in an oral glucose tolerance test\n",
    "- BloodPressure: Diastolic blood pressure (mm Hg)\n",
    "- SkinThickness: Triceps skin fold thickness (mm)\n",
    "- Insulin: 2-Hour serum insulin (mu U/ml)\n",
    "- BMI: Body mass index (weight in kg/(height in m)^2)\n",
    "- DiabetesPedigreeFunction: Diabetes pedigree function\n",
    "- Age: Age (years)\n",
    "\n",
    "The last column is the outcome, and it is a binary variable.\n",
    "\n",
    "In this assignment, you are asked to build an ANN model to do the diabetes prediction. The Pima Indians dataset could be found in the `data/` folder."
   ]
  },
  {
   "cell_type": "markdown",
   "metadata": {},
   "source": [
    "### 0. The *diabetes* Dataset and Data Pre-processing\n"
   ]
  },
  {
   "cell_type": "code",
   "execution_count": 1,
   "metadata": {},
   "outputs": [],
   "source": [
    "from IPython.core.interactiveshell import InteractiveShell\n",
    "InteractiveShell.ast_node_interactivity = 'all'\n",
    "import pandas as pd"
   ]
  },
  {
   "cell_type": "code",
   "execution_count": 2,
   "metadata": {},
   "outputs": [
    {
     "data": {
      "text/html": [
       "<div>\n",
       "<style scoped>\n",
       "    .dataframe tbody tr th:only-of-type {\n",
       "        vertical-align: middle;\n",
       "    }\n",
       "\n",
       "    .dataframe tbody tr th {\n",
       "        vertical-align: top;\n",
       "    }\n",
       "\n",
       "    .dataframe thead th {\n",
       "        text-align: right;\n",
       "    }\n",
       "</style>\n",
       "<table border=\"1\" class=\"dataframe\">\n",
       "  <thead>\n",
       "    <tr style=\"text-align: right;\">\n",
       "      <th></th>\n",
       "      <th>Pregnancies</th>\n",
       "      <th>Glucose</th>\n",
       "      <th>BloodPressure</th>\n",
       "      <th>SkinThickness</th>\n",
       "      <th>Insulin</th>\n",
       "      <th>BMI</th>\n",
       "      <th>DiabetesPedigreeFunction</th>\n",
       "      <th>Age</th>\n",
       "      <th>Outcome</th>\n",
       "    </tr>\n",
       "  </thead>\n",
       "  <tbody>\n",
       "    <tr>\n",
       "      <th>0</th>\n",
       "      <td>6</td>\n",
       "      <td>148</td>\n",
       "      <td>72</td>\n",
       "      <td>35</td>\n",
       "      <td>0</td>\n",
       "      <td>33.6</td>\n",
       "      <td>0.627</td>\n",
       "      <td>50</td>\n",
       "      <td>1</td>\n",
       "    </tr>\n",
       "    <tr>\n",
       "      <th>1</th>\n",
       "      <td>1</td>\n",
       "      <td>85</td>\n",
       "      <td>66</td>\n",
       "      <td>29</td>\n",
       "      <td>0</td>\n",
       "      <td>26.6</td>\n",
       "      <td>0.351</td>\n",
       "      <td>31</td>\n",
       "      <td>0</td>\n",
       "    </tr>\n",
       "    <tr>\n",
       "      <th>2</th>\n",
       "      <td>8</td>\n",
       "      <td>183</td>\n",
       "      <td>64</td>\n",
       "      <td>0</td>\n",
       "      <td>0</td>\n",
       "      <td>23.3</td>\n",
       "      <td>0.672</td>\n",
       "      <td>32</td>\n",
       "      <td>1</td>\n",
       "    </tr>\n",
       "    <tr>\n",
       "      <th>3</th>\n",
       "      <td>1</td>\n",
       "      <td>89</td>\n",
       "      <td>66</td>\n",
       "      <td>23</td>\n",
       "      <td>94</td>\n",
       "      <td>28.1</td>\n",
       "      <td>0.167</td>\n",
       "      <td>21</td>\n",
       "      <td>0</td>\n",
       "    </tr>\n",
       "    <tr>\n",
       "      <th>4</th>\n",
       "      <td>0</td>\n",
       "      <td>137</td>\n",
       "      <td>40</td>\n",
       "      <td>35</td>\n",
       "      <td>168</td>\n",
       "      <td>43.1</td>\n",
       "      <td>2.288</td>\n",
       "      <td>33</td>\n",
       "      <td>1</td>\n",
       "    </tr>\n",
       "  </tbody>\n",
       "</table>\n",
       "</div>"
      ],
      "text/plain": [
       "   Pregnancies  Glucose  BloodPressure  SkinThickness  Insulin   BMI  \\\n",
       "0            6      148             72             35        0  33.6   \n",
       "1            1       85             66             29        0  26.6   \n",
       "2            8      183             64              0        0  23.3   \n",
       "3            1       89             66             23       94  28.1   \n",
       "4            0      137             40             35      168  43.1   \n",
       "\n",
       "   DiabetesPedigreeFunction  Age  Outcome  \n",
       "0                     0.627   50        1  \n",
       "1                     0.351   31        0  \n",
       "2                     0.672   32        1  \n",
       "3                     0.167   21        0  \n",
       "4                     2.288   33        1  "
      ]
     },
     "execution_count": 2,
     "metadata": {},
     "output_type": "execute_result"
    }
   ],
   "source": [
    "df = pd.read_csv(('./data/diabetes.csv'))\n",
    "df.head(5)"
   ]
  },
  {
   "cell_type": "code",
   "execution_count": 3,
   "metadata": {},
   "outputs": [
    {
     "data": {
      "text/plain": [
       "array([[6.000e+00, 1.480e+02, 7.200e+01, 3.500e+01, 0.000e+00, 3.360e+01,\n",
       "        6.270e-01, 5.000e+01],\n",
       "       [1.000e+00, 8.500e+01, 6.600e+01, 2.900e+01, 0.000e+00, 2.660e+01,\n",
       "        3.510e-01, 3.100e+01],\n",
       "       [8.000e+00, 1.830e+02, 6.400e+01, 0.000e+00, 0.000e+00, 2.330e+01,\n",
       "        6.720e-01, 3.200e+01],\n",
       "       [1.000e+00, 8.900e+01, 6.600e+01, 2.300e+01, 9.400e+01, 2.810e+01,\n",
       "        1.670e-01, 2.100e+01],\n",
       "       [0.000e+00, 1.370e+02, 4.000e+01, 3.500e+01, 1.680e+02, 4.310e+01,\n",
       "        2.288e+00, 3.300e+01]])"
      ]
     },
     "execution_count": 3,
     "metadata": {},
     "output_type": "execute_result"
    },
    {
     "data": {
      "text/plain": [
       "array([1, 0, 1, 0, 1], dtype=int64)"
      ]
     },
     "execution_count": 3,
     "metadata": {},
     "output_type": "execute_result"
    }
   ],
   "source": [
    "X = df.iloc[:, 0:8].values\n",
    "X[:5,:]\n",
    "y = df.iloc[:, 8].values\n",
    "y[:5]"
   ]
  },
  {
   "cell_type": "code",
   "execution_count": 4,
   "metadata": {},
   "outputs": [
    {
     "data": {
      "text/plain": [
       "array([[ 0.63994726,  0.84832379,  0.14964075,  0.90726993, -0.69289057,\n",
       "         0.20401277,  0.46849198,  1.4259954 ],\n",
       "       [-0.84488505, -1.12339636, -0.16054575,  0.53090156, -0.69289057,\n",
       "        -0.68442195, -0.36506078, -0.19067191],\n",
       "       [ 1.23388019,  1.94372388, -0.26394125, -1.28821221, -0.69289057,\n",
       "        -1.10325546,  0.60439732, -0.10558415],\n",
       "       [-0.84488505, -0.99820778, -0.16054575,  0.15453319,  0.12330164,\n",
       "        -0.49404308, -0.92076261, -1.04154944],\n",
       "       [-1.14185152,  0.5040552 , -1.50468724,  0.90726993,  0.76583594,\n",
       "         1.4097456 ,  5.4849091 , -0.0204964 ]])"
      ]
     },
     "execution_count": 4,
     "metadata": {},
     "output_type": "execute_result"
    }
   ],
   "source": [
    "#The data is already normalized and there are no categorical inputs, so I will scale it with standard scaler\n",
    "from  sklearn.preprocessing import StandardScaler\n",
    "sc = StandardScaler()\n",
    "X = sc.fit_transform(X)\n",
    "X[:5,:]"
   ]
  },
  {
   "cell_type": "markdown",
   "metadata": {},
   "source": [
    "### 1. Binary-Classification Model\n"
   ]
  },
  {
   "cell_type": "code",
   "execution_count": 5,
   "metadata": {},
   "outputs": [
    {
     "data": {
      "text/plain": [
       "(614, 8)"
      ]
     },
     "execution_count": 5,
     "metadata": {},
     "output_type": "execute_result"
    },
    {
     "data": {
      "text/plain": [
       "(614,)"
      ]
     },
     "execution_count": 5,
     "metadata": {},
     "output_type": "execute_result"
    }
   ],
   "source": [
    "from sklearn.model_selection import train_test_split\n",
    "X_train, X_test, y_train, y_test, = train_test_split(X, y, test_size = 0.2, random_state = 0, stratify = y)\n",
    "X_train.shape\n",
    "y_train.shape"
   ]
  },
  {
   "cell_type": "code",
   "execution_count": 6,
   "metadata": {},
   "outputs": [],
   "source": [
    "import numpy as np\n",
    "\n",
    "from tensorflow.keras.models import Sequential\n",
    "from tensorflow.keras.layers import Dense\n",
    "from tensorflow.keras.optimizers import Adam"
   ]
  },
  {
   "cell_type": "code",
   "execution_count": 7,
   "metadata": {},
   "outputs": [
    {
     "name": "stdout",
     "output_type": "stream",
     "text": [
      "WARNING:tensorflow:From C:\\Users\\Mathieu Davidson\\Anaconda3\\envs\\CS4990\\lib\\site-packages\\tensorflow_core\\python\\keras\\initializers.py:119: calling RandomUniform.__init__ (from tensorflow.python.ops.init_ops) with dtype is deprecated and will be removed in a future version.\n",
      "Instructions for updating:\n",
      "Call initializer instance with the dtype argument instead of passing it to the constructor\n",
      "WARNING:tensorflow:From C:\\Users\\Mathieu Davidson\\Anaconda3\\envs\\CS4990\\lib\\site-packages\\tensorflow_core\\python\\ops\\resource_variable_ops.py:1630: calling BaseResourceVariable.__init__ (from tensorflow.python.ops.resource_variable_ops) with constraint is deprecated and will be removed in a future version.\n",
      "Instructions for updating:\n",
      "If using Keras pass *_constraint arguments to layers.\n",
      "WARNING:tensorflow:From C:\\Users\\Mathieu Davidson\\Anaconda3\\envs\\CS4990\\lib\\site-packages\\tensorflow_core\\python\\ops\\nn_impl.py:183: where (from tensorflow.python.ops.array_ops) is deprecated and will be removed in a future version.\n",
      "Instructions for updating:\n",
      "Use tf.where in 2.0, which has the same broadcast rule as np.where\n"
     ]
    }
   ],
   "source": [
    "model = Sequential()\n",
    "\n",
    "model.add(Dense(units = 16, kernel_initializer = 'uniform', activation = 'relu', input_dim = 8))\n",
    "model.add(Dense(units = 8, kernel_initializer = 'uniform', activation = 'sigmoid'))\n",
    "model.add(Dense(units = 1, kernel_initializer = 'uniform', activation = 'sigmoid'))\n",
    "\n",
    "model.compile(optimizer = 'adam',\n",
    "             loss = 'binary_crossentropy',\n",
    "             metrics = ['accuracy'])"
   ]
  },
  {
   "cell_type": "code",
   "execution_count": 8,
   "metadata": {},
   "outputs": [
    {
     "name": "stdout",
     "output_type": "stream",
     "text": [
      "Train on 552 samples, validate on 62 samples\n",
      "Epoch 1/100\n",
      "552/552 - 1s - loss: 0.6852 - acc: 0.5888 - val_loss: 0.6809 - val_acc: 0.5968\n",
      "Epoch 2/100\n",
      "552/552 - 0s - loss: 0.6601 - acc: 0.6576 - val_loss: 0.6687 - val_acc: 0.5968\n",
      "Epoch 3/100\n",
      "552/552 - 0s - loss: 0.6327 - acc: 0.6576 - val_loss: 0.6509 - val_acc: 0.5968\n",
      "Epoch 4/100\n",
      "552/552 - 0s - loss: 0.6031 - acc: 0.6576 - val_loss: 0.6305 - val_acc: 0.5968\n",
      "Epoch 5/100\n",
      "552/552 - 0s - loss: 0.5765 - acc: 0.6576 - val_loss: 0.6145 - val_acc: 0.5968\n",
      "Epoch 6/100\n",
      "552/552 - 0s - loss: 0.5577 - acc: 0.6576 - val_loss: 0.6040 - val_acc: 0.5968\n",
      "Epoch 7/100\n",
      "552/552 - 0s - loss: 0.5448 - acc: 0.6576 - val_loss: 0.5969 - val_acc: 0.5968\n",
      "Epoch 8/100\n",
      "552/552 - 0s - loss: 0.5356 - acc: 0.6576 - val_loss: 0.5921 - val_acc: 0.5968\n",
      "Epoch 9/100\n",
      "552/552 - 0s - loss: 0.5290 - acc: 0.6576 - val_loss: 0.5878 - val_acc: 0.5968\n",
      "Epoch 10/100\n",
      "552/552 - 0s - loss: 0.5238 - acc: 0.6576 - val_loss: 0.5831 - val_acc: 0.5968\n",
      "Epoch 11/100\n",
      "552/552 - 0s - loss: 0.5192 - acc: 0.6576 - val_loss: 0.5800 - val_acc: 0.5645\n",
      "Epoch 12/100\n",
      "552/552 - 0s - loss: 0.5159 - acc: 0.7065 - val_loss: 0.5787 - val_acc: 0.6613\n",
      "Epoch 13/100\n",
      "552/552 - 0s - loss: 0.5124 - acc: 0.7228 - val_loss: 0.5772 - val_acc: 0.6935\n",
      "Epoch 14/100\n",
      "552/552 - 0s - loss: 0.5098 - acc: 0.7536 - val_loss: 0.5764 - val_acc: 0.7419\n",
      "Epoch 15/100\n",
      "552/552 - 0s - loss: 0.5080 - acc: 0.7645 - val_loss: 0.5775 - val_acc: 0.7258\n",
      "Epoch 16/100\n",
      "552/552 - 0s - loss: 0.5057 - acc: 0.7808 - val_loss: 0.5741 - val_acc: 0.7258\n",
      "Epoch 17/100\n",
      "552/552 - 0s - loss: 0.5038 - acc: 0.7826 - val_loss: 0.5708 - val_acc: 0.7581\n",
      "Epoch 18/100\n",
      "552/552 - 0s - loss: 0.5024 - acc: 0.7862 - val_loss: 0.5715 - val_acc: 0.7581\n",
      "Epoch 19/100\n",
      "552/552 - 0s - loss: 0.5008 - acc: 0.7844 - val_loss: 0.5689 - val_acc: 0.7742\n",
      "Epoch 20/100\n",
      "552/552 - 0s - loss: 0.4992 - acc: 0.7826 - val_loss: 0.5702 - val_acc: 0.7742\n",
      "Epoch 21/100\n",
      "552/552 - 0s - loss: 0.4976 - acc: 0.7772 - val_loss: 0.5689 - val_acc: 0.7742\n",
      "Epoch 22/100\n",
      "552/552 - 0s - loss: 0.4962 - acc: 0.7717 - val_loss: 0.5660 - val_acc: 0.7742\n",
      "Epoch 23/100\n",
      "552/552 - 0s - loss: 0.4949 - acc: 0.7754 - val_loss: 0.5648 - val_acc: 0.7581\n",
      "Epoch 24/100\n",
      "552/552 - 0s - loss: 0.4935 - acc: 0.7717 - val_loss: 0.5642 - val_acc: 0.7581\n",
      "Epoch 25/100\n",
      "552/552 - 0s - loss: 0.4927 - acc: 0.7754 - val_loss: 0.5626 - val_acc: 0.7581\n",
      "Epoch 26/100\n",
      "552/552 - 0s - loss: 0.4914 - acc: 0.7808 - val_loss: 0.5600 - val_acc: 0.7742\n",
      "Epoch 27/100\n",
      "552/552 - 0s - loss: 0.4900 - acc: 0.7808 - val_loss: 0.5591 - val_acc: 0.7742\n",
      "Epoch 28/100\n",
      "552/552 - 0s - loss: 0.4890 - acc: 0.7754 - val_loss: 0.5585 - val_acc: 0.7742\n",
      "Epoch 29/100\n",
      "552/552 - 0s - loss: 0.4876 - acc: 0.7808 - val_loss: 0.5585 - val_acc: 0.7742\n",
      "Epoch 30/100\n",
      "552/552 - 0s - loss: 0.4866 - acc: 0.7790 - val_loss: 0.5559 - val_acc: 0.7742\n",
      "Epoch 31/100\n",
      "552/552 - 0s - loss: 0.4877 - acc: 0.7790 - val_loss: 0.5564 - val_acc: 0.7581\n",
      "Epoch 32/100\n",
      "552/552 - 0s - loss: 0.4855 - acc: 0.7790 - val_loss: 0.5538 - val_acc: 0.7419\n",
      "Epoch 33/100\n",
      "552/552 - 0s - loss: 0.4842 - acc: 0.7772 - val_loss: 0.5537 - val_acc: 0.7581\n",
      "Epoch 34/100\n",
      "552/552 - 0s - loss: 0.4837 - acc: 0.7717 - val_loss: 0.5542 - val_acc: 0.7419\n",
      "Epoch 35/100\n",
      "552/552 - 0s - loss: 0.4826 - acc: 0.7736 - val_loss: 0.5529 - val_acc: 0.7581\n",
      "Epoch 36/100\n",
      "552/552 - 0s - loss: 0.4823 - acc: 0.7717 - val_loss: 0.5528 - val_acc: 0.7581\n",
      "Epoch 37/100\n",
      "552/552 - 0s - loss: 0.4812 - acc: 0.7736 - val_loss: 0.5518 - val_acc: 0.7419\n",
      "Epoch 38/100\n",
      "552/552 - 0s - loss: 0.4807 - acc: 0.7736 - val_loss: 0.5506 - val_acc: 0.7419\n",
      "Epoch 39/100\n",
      "552/552 - 0s - loss: 0.4803 - acc: 0.7736 - val_loss: 0.5507 - val_acc: 0.7419\n",
      "Epoch 40/100\n",
      "552/552 - 0s - loss: 0.4793 - acc: 0.7754 - val_loss: 0.5488 - val_acc: 0.7419\n",
      "Epoch 41/100\n",
      "552/552 - 0s - loss: 0.4784 - acc: 0.7754 - val_loss: 0.5487 - val_acc: 0.7419\n",
      "Epoch 42/100\n",
      "552/552 - 0s - loss: 0.4777 - acc: 0.7754 - val_loss: 0.5484 - val_acc: 0.7419\n",
      "Epoch 43/100\n",
      "552/552 - 0s - loss: 0.4774 - acc: 0.7772 - val_loss: 0.5485 - val_acc: 0.7581\n",
      "Epoch 44/100\n",
      "552/552 - 0s - loss: 0.4769 - acc: 0.7717 - val_loss: 0.5472 - val_acc: 0.7419\n",
      "Epoch 45/100\n",
      "552/552 - 0s - loss: 0.4764 - acc: 0.7772 - val_loss: 0.5469 - val_acc: 0.7419\n",
      "Epoch 46/100\n",
      "552/552 - 0s - loss: 0.4752 - acc: 0.7754 - val_loss: 0.5461 - val_acc: 0.7419\n",
      "Epoch 47/100\n",
      "552/552 - 0s - loss: 0.4749 - acc: 0.7754 - val_loss: 0.5478 - val_acc: 0.7419\n",
      "Epoch 48/100\n",
      "552/552 - 0s - loss: 0.4747 - acc: 0.7717 - val_loss: 0.5469 - val_acc: 0.7419\n",
      "Epoch 49/100\n",
      "552/552 - 0s - loss: 0.4739 - acc: 0.7717 - val_loss: 0.5460 - val_acc: 0.7581\n",
      "Epoch 50/100\n",
      "552/552 - 0s - loss: 0.4732 - acc: 0.7717 - val_loss: 0.5450 - val_acc: 0.7419\n",
      "Epoch 51/100\n",
      "552/552 - 0s - loss: 0.4729 - acc: 0.7717 - val_loss: 0.5449 - val_acc: 0.7581\n",
      "Epoch 52/100\n",
      "552/552 - 0s - loss: 0.4728 - acc: 0.7717 - val_loss: 0.5434 - val_acc: 0.7419\n",
      "Epoch 53/100\n",
      "552/552 - 0s - loss: 0.4717 - acc: 0.7717 - val_loss: 0.5441 - val_acc: 0.7581\n",
      "Epoch 54/100\n",
      "552/552 - 0s - loss: 0.4714 - acc: 0.7717 - val_loss: 0.5448 - val_acc: 0.7581\n",
      "Epoch 55/100\n",
      "552/552 - 0s - loss: 0.4709 - acc: 0.7754 - val_loss: 0.5440 - val_acc: 0.7419\n",
      "Epoch 56/100\n",
      "552/552 - 0s - loss: 0.4706 - acc: 0.7699 - val_loss: 0.5446 - val_acc: 0.7419\n",
      "Epoch 57/100\n",
      "552/552 - 0s - loss: 0.4703 - acc: 0.7736 - val_loss: 0.5414 - val_acc: 0.7419\n",
      "Epoch 58/100\n",
      "552/552 - 0s - loss: 0.4692 - acc: 0.7808 - val_loss: 0.5428 - val_acc: 0.7419\n",
      "Epoch 59/100\n",
      "552/552 - 0s - loss: 0.4689 - acc: 0.7754 - val_loss: 0.5416 - val_acc: 0.7581\n",
      "Epoch 60/100\n",
      "552/552 - 0s - loss: 0.4683 - acc: 0.7790 - val_loss: 0.5404 - val_acc: 0.7581\n",
      "Epoch 61/100\n",
      "552/552 - 0s - loss: 0.4676 - acc: 0.7790 - val_loss: 0.5407 - val_acc: 0.7581\n",
      "Epoch 62/100\n",
      "552/552 - 0s - loss: 0.4669 - acc: 0.7808 - val_loss: 0.5405 - val_acc: 0.7581\n",
      "Epoch 63/100\n",
      "552/552 - 0s - loss: 0.4670 - acc: 0.7826 - val_loss: 0.5395 - val_acc: 0.7258\n",
      "Epoch 64/100\n",
      "552/552 - 0s - loss: 0.4659 - acc: 0.7826 - val_loss: 0.5410 - val_acc: 0.7581\n",
      "Epoch 65/100\n",
      "552/552 - 0s - loss: 0.4657 - acc: 0.7844 - val_loss: 0.5407 - val_acc: 0.7419\n",
      "Epoch 66/100\n",
      "552/552 - 0s - loss: 0.4651 - acc: 0.7826 - val_loss: 0.5392 - val_acc: 0.7581\n",
      "Epoch 67/100\n",
      "552/552 - 0s - loss: 0.4643 - acc: 0.7790 - val_loss: 0.5406 - val_acc: 0.7581\n",
      "Epoch 68/100\n",
      "552/552 - 0s - loss: 0.4636 - acc: 0.7844 - val_loss: 0.5407 - val_acc: 0.7581\n",
      "Epoch 69/100\n",
      "552/552 - 0s - loss: 0.4632 - acc: 0.7844 - val_loss: 0.5421 - val_acc: 0.7581\n",
      "Epoch 70/100\n",
      "552/552 - 0s - loss: 0.4629 - acc: 0.7862 - val_loss: 0.5397 - val_acc: 0.7419\n",
      "Epoch 71/100\n",
      "552/552 - 0s - loss: 0.4622 - acc: 0.7844 - val_loss: 0.5407 - val_acc: 0.7419\n",
      "Epoch 72/100\n",
      "552/552 - 0s - loss: 0.4612 - acc: 0.7862 - val_loss: 0.5403 - val_acc: 0.7419\n",
      "Epoch 73/100\n",
      "552/552 - 0s - loss: 0.4606 - acc: 0.7880 - val_loss: 0.5401 - val_acc: 0.7258\n",
      "Epoch 74/100\n",
      "552/552 - 0s - loss: 0.4601 - acc: 0.7862 - val_loss: 0.5396 - val_acc: 0.7419\n",
      "Epoch 75/100\n",
      "552/552 - 0s - loss: 0.4601 - acc: 0.7808 - val_loss: 0.5398 - val_acc: 0.7419\n",
      "Epoch 76/100\n",
      "552/552 - 0s - loss: 0.4591 - acc: 0.7862 - val_loss: 0.5408 - val_acc: 0.7419\n",
      "Epoch 77/100\n",
      "552/552 - 0s - loss: 0.4593 - acc: 0.7826 - val_loss: 0.5402 - val_acc: 0.7419\n",
      "Epoch 78/100\n",
      "552/552 - 0s - loss: 0.4583 - acc: 0.7862 - val_loss: 0.5416 - val_acc: 0.7419\n",
      "Epoch 79/100\n",
      "552/552 - 0s - loss: 0.4578 - acc: 0.7880 - val_loss: 0.5407 - val_acc: 0.7419\n",
      "Epoch 80/100\n",
      "552/552 - 0s - loss: 0.4572 - acc: 0.7862 - val_loss: 0.5410 - val_acc: 0.7419\n",
      "Epoch 81/100\n",
      "552/552 - 0s - loss: 0.4572 - acc: 0.7899 - val_loss: 0.5415 - val_acc: 0.7419\n",
      "Epoch 82/100\n",
      "552/552 - 0s - loss: 0.4566 - acc: 0.7899 - val_loss: 0.5402 - val_acc: 0.7419\n",
      "Epoch 83/100\n",
      "552/552 - 0s - loss: 0.4567 - acc: 0.7808 - val_loss: 0.5384 - val_acc: 0.7419\n",
      "Epoch 84/100\n",
      "552/552 - 0s - loss: 0.4554 - acc: 0.7826 - val_loss: 0.5390 - val_acc: 0.7419\n",
      "Epoch 85/100\n",
      "552/552 - 0s - loss: 0.4550 - acc: 0.7880 - val_loss: 0.5392 - val_acc: 0.7419\n",
      "Epoch 86/100\n",
      "552/552 - 0s - loss: 0.4544 - acc: 0.7862 - val_loss: 0.5400 - val_acc: 0.7419\n",
      "Epoch 87/100\n",
      "552/552 - 0s - loss: 0.4540 - acc: 0.7826 - val_loss: 0.5407 - val_acc: 0.7419\n",
      "Epoch 88/100\n",
      "552/552 - 0s - loss: 0.4544 - acc: 0.7880 - val_loss: 0.5417 - val_acc: 0.7419\n",
      "Epoch 89/100\n",
      "552/552 - 0s - loss: 0.4534 - acc: 0.7790 - val_loss: 0.5423 - val_acc: 0.7419\n"
     ]
    },
    {
     "name": "stdout",
     "output_type": "stream",
     "text": [
      "Epoch 90/100\n",
      "552/552 - 0s - loss: 0.4531 - acc: 0.7899 - val_loss: 0.5417 - val_acc: 0.7419\n",
      "Epoch 91/100\n",
      "552/552 - 0s - loss: 0.4524 - acc: 0.7880 - val_loss: 0.5409 - val_acc: 0.7419\n",
      "Epoch 92/100\n",
      "552/552 - 0s - loss: 0.4524 - acc: 0.7790 - val_loss: 0.5409 - val_acc: 0.7419\n",
      "Epoch 93/100\n",
      "552/552 - 0s - loss: 0.4527 - acc: 0.7844 - val_loss: 0.5435 - val_acc: 0.7419\n",
      "Epoch 94/100\n",
      "552/552 - 0s - loss: 0.4517 - acc: 0.7862 - val_loss: 0.5417 - val_acc: 0.7419\n",
      "Epoch 95/100\n",
      "552/552 - 0s - loss: 0.4518 - acc: 0.7844 - val_loss: 0.5415 - val_acc: 0.7419\n",
      "Epoch 96/100\n",
      "552/552 - 0s - loss: 0.4511 - acc: 0.7844 - val_loss: 0.5413 - val_acc: 0.7419\n",
      "Epoch 97/100\n",
      "552/552 - 0s - loss: 0.4511 - acc: 0.7808 - val_loss: 0.5425 - val_acc: 0.7419\n",
      "Epoch 98/100\n",
      "552/552 - 0s - loss: 0.4506 - acc: 0.7844 - val_loss: 0.5430 - val_acc: 0.7419\n",
      "Epoch 99/100\n",
      "552/552 - 0s - loss: 0.4512 - acc: 0.7880 - val_loss: 0.5438 - val_acc: 0.7419\n",
      "Epoch 100/100\n",
      "552/552 - 0s - loss: 0.4498 - acc: 0.7754 - val_loss: 0.5423 - val_acc: 0.7419\n"
     ]
    },
    {
     "data": {
      "text/plain": [
       "<tensorflow.python.keras.callbacks.History at 0x1e0b2a526c8>"
      ]
     },
     "execution_count": 8,
     "metadata": {},
     "output_type": "execute_result"
    }
   ],
   "source": [
    "model.fit(X_train, y_train, validation_split=0.1, batch_size=10, epochs = 100, verbose= 2)"
   ]
  },
  {
   "cell_type": "code",
   "execution_count": 9,
   "metadata": {},
   "outputs": [
    {
     "data": {
      "text/plain": [
       "array([[False],\n",
       "       [False],\n",
       "       [False],\n",
       "       [ True],\n",
       "       [ True]])"
      ]
     },
     "execution_count": 9,
     "metadata": {},
     "output_type": "execute_result"
    }
   ],
   "source": [
    "y_pred = model.predict(X_test)\n",
    "y_pred = (y_pred > 0.5)\n",
    "y_pred[:5]"
   ]
  },
  {
   "cell_type": "markdown",
   "metadata": {},
   "source": [
    "### 2. Analysis"
   ]
  },
  {
   "cell_type": "code",
   "execution_count": 10,
   "metadata": {},
   "outputs": [
    {
     "name": "stdout",
     "output_type": "stream",
     "text": [
      "Test accuracy for our ANN model: 81.17 %\n"
     ]
    }
   ],
   "source": [
    "from sklearn.metrics import accuracy_score\n",
    "\n",
    "print('Test accuracy for our ANN model:', \\\n",
    "     round(accuracy_score(y_test, y_pred)*100,2),'%')"
   ]
  },
  {
   "cell_type": "code",
   "execution_count": 11,
   "metadata": {},
   "outputs": [
    {
     "name": "stdout",
     "output_type": "stream",
     "text": [
      "              precision    recall  f1-score   support\n",
      "\n",
      "           0       0.84      0.88      0.86       100\n",
      "           1       0.76      0.69      0.72        54\n",
      "\n",
      "   micro avg       0.81      0.81      0.81       154\n",
      "   macro avg       0.80      0.78      0.79       154\n",
      "weighted avg       0.81      0.81      0.81       154\n",
      "\n"
     ]
    }
   ],
   "source": [
    "from sklearn.metrics import classification_report\n",
    "\n",
    "print(classification_report(y_test, y_pred))"
   ]
  },
  {
   "cell_type": "code",
   "execution_count": 12,
   "metadata": {},
   "outputs": [
    {
     "data": {
      "text/html": [
       "<div>\n",
       "<style scoped>\n",
       "    .dataframe tbody tr th:only-of-type {\n",
       "        vertical-align: middle;\n",
       "    }\n",
       "\n",
       "    .dataframe tbody tr th {\n",
       "        vertical-align: top;\n",
       "    }\n",
       "\n",
       "    .dataframe thead th {\n",
       "        text-align: right;\n",
       "    }\n",
       "</style>\n",
       "<table border=\"1\" class=\"dataframe\">\n",
       "  <thead>\n",
       "    <tr style=\"text-align: right;\">\n",
       "      <th></th>\n",
       "      <th>0</th>\n",
       "      <th>1</th>\n",
       "    </tr>\n",
       "  </thead>\n",
       "  <tbody>\n",
       "    <tr>\n",
       "      <th>0</th>\n",
       "      <td>88</td>\n",
       "      <td>12</td>\n",
       "    </tr>\n",
       "    <tr>\n",
       "      <th>1</th>\n",
       "      <td>17</td>\n",
       "      <td>37</td>\n",
       "    </tr>\n",
       "  </tbody>\n",
       "</table>\n",
       "</div>"
      ],
      "text/plain": [
       "    0   1\n",
       "0  88  12\n",
       "1  17  37"
      ]
     },
     "execution_count": 12,
     "metadata": {},
     "output_type": "execute_result"
    }
   ],
   "source": [
    "from sklearn.metrics import confusion_matrix\n",
    "cm = confusion_matrix(y_test, y_pred)\n",
    "\n",
    "pd.DataFrame(cm)"
   ]
  },
  {
   "cell_type": "code",
   "execution_count": 13,
   "metadata": {},
   "outputs": [
    {
     "data": {
      "image/png": "[encoded data removed]",
      "text/plain": [
       "<Figure size 432x288 with 1 Axes>"
      ]
     },
     "metadata": {
      "needs_background": "light"
     },
     "output_type": "display_data"
    }
   ],
   "source": [
    "import matplotlib.pyplot as plt\n",
    "\n",
    "plt.imshow(cm, cmap='Blues');"
   ]
  },
  {
   "cell_type": "code",
   "execution_count": null,
   "metadata": {},
   "outputs": [],
   "source": []
  }
 ],
 "metadata": {
  "kernelspec": {
   "display_name": "Python 3",
   "language": "python",
   "name": "python3"
  },
  "language_info": {
   "codemirror_mode": {
    "name": "ipython",
    "version": 3
   },
   "file_extension": ".py",
   "mimetype": "text/x-python",
   "name": "python",
   "nbconvert_exporter": "python",
   "pygments_lexer": "ipython3",
   "version": "3.7.6"
  }
 },
 "nbformat": 4,
 "nbformat_minor": 2
}
